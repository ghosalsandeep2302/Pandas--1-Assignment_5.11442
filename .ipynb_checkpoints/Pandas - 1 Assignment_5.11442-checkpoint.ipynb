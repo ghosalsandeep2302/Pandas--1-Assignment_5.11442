{
 "cells": [
  {
   "cell_type": "code",
   "execution_count": null,
   "metadata": {},
   "outputs": [],
   "source": [
    "## 1) How-to-count-distance-to-the-previous-zero\n",
    "For each value, count the difference of the distance from the previous zero (or the start\n",
    "of the Series, whichever is closer) and if there are no previous zeros,print the position\n",
    " Consider a DataFrame df where there is an integer column {'X':[7, 2, 0, 3, 4, 2, 5, 0, 3, 4]}\n",
    " The values should therefore be [1, 2, 0, 1, 2, 3, 4, 0, 1, 2]. Make this a new column 'Y'."
   ]
  },
  {
   "cell_type": "code",
   "execution_count": 2,
   "metadata": {},
   "outputs": [],
   "source": [
    "import pandas as pd\n",
    "import numpy as np\n",
    "import calendar"
   ]
  },
  {
   "cell_type": "code",
   "execution_count": 3,
   "metadata": {},
   "outputs": [
    {
     "name": "stdout",
     "output_type": "stream",
     "text": [
      "   X  Y\n",
      "0  7  1\n",
      "1  2  2\n",
      "2  0  0\n",
      "3  3  1\n",
      "4  4  2\n",
      "5  2  3\n",
      "6  5  4\n",
      "7  0  0\n",
      "8  3  1\n",
      "9  4  2\n"
     ]
    }
   ],
   "source": [
    "Spos = -1\n",
    "df = pd.DataFrame({'X': [7, 2, 0, 3, 4, 2, 5, 0, 3, 4]}) \n",
    "X = df.index[df['X']].tolist()\n",
    "Y = []\n",
    "for i in range(len(X)):\n",
    "    if X[i] == 0:\n",
    "        Y.append(0)\n",
    "        Spos = i\n",
    "    else: \n",
    "        Y.append(i-Spos)\n",
    "        \n",
    "df.insert(loc=1, column='Y', value=Y)\n",
    "\n",
    "print (df)"
   ]
  },
  {
   "cell_type": "code",
   "execution_count": null,
   "metadata": {},
   "outputs": [],
   "source": [
    "## 2) Create a DatetimeIndex that contains each business day of 2015 and use it to index a Series of random numbers."
   ]
  },
  {
   "cell_type": "code",
   "execution_count": 4,
   "metadata": {},
   "outputs": [
    {
     "name": "stdout",
     "output_type": "stream",
     "text": [
      "            Random\n",
      "my_Dt             \n",
      "2015-01-01     254\n",
      "2015-01-02     118\n",
      "2015-01-05     238\n",
      "2015-01-06     244\n",
      "2015-01-07     354\n",
      "2015-01-08     384\n",
      "2015-01-09     476\n",
      "2015-01-12     347\n",
      "2015-01-13     108\n",
      "2015-01-14     144\n",
      "2015-01-15     255\n",
      "2015-01-16     265\n",
      "2015-01-19     162\n",
      "2015-01-20     490\n",
      "2015-01-21     288\n",
      "2015-01-22     248\n",
      "2015-01-23     482\n",
      "2015-01-26     327\n",
      "2015-01-27     120\n",
      "2015-01-28     102\n",
      "2015-01-29     124\n",
      "2015-01-30     141\n",
      "2015-02-02     108\n",
      "2015-02-03     276\n",
      "2015-02-04     345\n",
      "2015-02-05     323\n",
      "2015-02-06     187\n",
      "2015-02-09     331\n",
      "2015-02-10     155\n",
      "2015-02-11     450\n",
      "...            ...\n",
      "2015-11-23     468\n",
      "2015-11-24     475\n",
      "2015-11-25     366\n",
      "2015-11-26     265\n",
      "2015-11-27     378\n",
      "2015-11-30     256\n",
      "2015-12-01     245\n",
      "2015-12-02     328\n",
      "2015-12-03     170\n",
      "2015-12-04     421\n",
      "2015-12-07     237\n",
      "2015-12-08     273\n",
      "2015-12-09     122\n",
      "2015-12-10     102\n",
      "2015-12-11     261\n",
      "2015-12-14     349\n",
      "2015-12-15     280\n",
      "2015-12-16     454\n",
      "2015-12-17     199\n",
      "2015-12-18     157\n",
      "2015-12-21     104\n",
      "2015-12-22     465\n",
      "2015-12-23     302\n",
      "2015-12-24     267\n",
      "2015-12-25     277\n",
      "2015-12-28     107\n",
      "2015-12-29     314\n",
      "2015-12-30     271\n",
      "2015-12-31     138\n",
      "2016-01-01     220\n",
      "\n",
      "[262 rows x 1 columns]\n"
     ]
    }
   ],
   "source": [
    "s = pd.DataFrame(index = pd.bdate_range('2015-01-01', '2016-01-01'))\n",
    "random = np.random.randint(low=100, high=500, size=len(s.index))\n",
    "s.insert(loc = 0, column = 'Random', value = random)\n",
    "s.index.name = 'my_Dt'\n",
    "print(s)"
   ]
  },
  {
   "cell_type": "code",
   "execution_count": null,
   "metadata": {},
   "outputs": [],
   "source": [
    "## 3) Find the sum of the values in s for every Wednesday"
   ]
  },
  {
   "cell_type": "code",
   "execution_count": 5,
   "metadata": {},
   "outputs": [
    {
     "name": "stdout",
     "output_type": "stream",
     "text": [
      "14304\n"
     ]
    }
   ],
   "source": [
    "Sum = s['Random'][s.index.weekday==2].sum()\n",
    "\n",
    "print(Sum)"
   ]
  },
  {
   "cell_type": "code",
   "execution_count": null,
   "metadata": {},
   "outputs": [],
   "source": [
    "## 4) Average For each calendar month"
   ]
  },
  {
   "cell_type": "code",
   "execution_count": 6,
   "metadata": {},
   "outputs": [
    {
     "name": "stdout",
     "output_type": "stream",
     "text": [
      "my_Dt\n",
      "1     5891\n",
      "2     4993\n",
      "3     6266\n",
      "4     6385\n",
      "5     7262\n",
      "6     7015\n",
      "7     6706\n",
      "8     5930\n",
      "9     6529\n",
      "10    7262\n",
      "11    6924\n",
      "12    5843\n",
      "Name: Random, dtype: int32\n"
     ]
    }
   ],
   "source": [
    "MAvg = s.groupby(s.index.month)['Random'].sum()\n",
    "\n",
    "print(MAvg)"
   ]
  },
  {
   "cell_type": "code",
   "execution_count": null,
   "metadata": {},
   "outputs": [],
   "source": [
    "## 5) For each group of four consecutive calendar months in s, find the date on which the highest value occurred."
   ]
  },
  {
   "cell_type": "code",
   "execution_count": 7,
   "metadata": {},
   "outputs": [
    {
     "name": "stdout",
     "output_type": "stream",
     "text": [
      "            Random\n",
      "my_Dt             \n",
      "2015-01-01     254\n",
      "2015-04-01     372\n",
      "2015-08-03     486\n",
      "2015-12-01     245\n"
     ]
    }
   ],
   "source": [
    "HV = s.groupby(s.index.month//4).head(1)\n",
    "print(HV)"
   ]
  }
 ],
 "metadata": {
  "kernelspec": {
   "display_name": "Python 3",
   "language": "python",
   "name": "python3"
  },
  "language_info": {
   "codemirror_mode": {
    "name": "ipython",
    "version": 3
   },
   "file_extension": ".py",
   "mimetype": "text/x-python",
   "name": "python",
   "nbconvert_exporter": "python",
   "pygments_lexer": "ipython3",
   "version": "3.6.5"
  }
 },
 "nbformat": 4,
 "nbformat_minor": 2
}
